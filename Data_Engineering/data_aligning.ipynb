{
 "cells": [
  {
   "cell_type": "code",
   "execution_count": 39,
   "id": "39606849-4175-414d-8640-990ce000b8cf",
   "metadata": {},
   "outputs": [],
   "source": [
    "import pandas as pd\n",
    "import ast"
   ]
  },
  {
   "cell_type": "code",
   "execution_count": 40,
   "id": "45b4b96b-357e-4f03-a6ba-f797b6984fd8",
   "metadata": {},
   "outputs": [],
   "source": [
    "df = pd.read_csv(r'C:\\Users\\MutukunduNandaKumarR\\Downloads\\MOCK_TIMESHEETDATA.csv')\n",
    "\n"
   ]
  },
  {
   "cell_type": "code",
   "execution_count": 41,
   "id": "58cfa12d-dab5-4e9f-a598-5f99282d7a77",
   "metadata": {},
   "outputs": [
    {
     "data": {
      "text/html": [
       "<div>\n",
       "<style scoped>\n",
       "    .dataframe tbody tr th:only-of-type {\n",
       "        vertical-align: middle;\n",
       "    }\n",
       "\n",
       "    .dataframe tbody tr th {\n",
       "        vertical-align: top;\n",
       "    }\n",
       "\n",
       "    .dataframe thead th {\n",
       "        text-align: right;\n",
       "    }\n",
       "</style>\n",
       "<table border=\"1\" class=\"dataframe\">\n",
       "  <thead>\n",
       "    <tr style=\"text-align: right;\">\n",
       "      <th></th>\n",
       "      <th>_id</th>\n",
       "      <th>startDate</th>\n",
       "      <th>endDate</th>\n",
       "      <th>userEmail</th>\n",
       "      <th>userName</th>\n",
       "      <th>activities.name</th>\n",
       "      <th>activities.hours.comment</th>\n",
       "      <th>totalHoursPerDay</th>\n",
       "      <th>totalHours</th>\n",
       "    </tr>\n",
       "  </thead>\n",
       "  <tbody>\n",
       "    <tr>\n",
       "      <th>0</th>\n",
       "      <td>4C087EDad6E13d59EeB8AEFB</td>\n",
       "      <td>2024-03-03T23:22:57Z</td>\n",
       "      <td>2024-01-14T13:34:36Z</td>\n",
       "      <td>sgellan0@wikipedia.org</td>\n",
       "      <td>Sherye Gellan</td>\n",
       "      <td>BAU Activity</td>\n",
       "      <td>Average</td>\n",
       "      <td>[5, 8, 3, 9, 0, 6, 7]</td>\n",
       "      <td>21</td>\n",
       "    </tr>\n",
       "    <tr>\n",
       "      <th>1</th>\n",
       "      <td>AAA29F5Afed37aEB309b6cbf</td>\n",
       "      <td>2024-01-13T15:01:43Z</td>\n",
       "      <td>2024-04-13T11:16:15Z</td>\n",
       "      <td>pgovan1@ow.ly</td>\n",
       "      <td>Pincus Govan</td>\n",
       "      <td>BAU Activity</td>\n",
       "      <td>Excellent</td>\n",
       "      <td>[5, 0, 4, 4, 0, 9, 9]</td>\n",
       "      <td>18</td>\n",
       "    </tr>\n",
       "    <tr>\n",
       "      <th>2</th>\n",
       "      <td>a4aFe2e9eEBa1Fa7EBE9EcdC</td>\n",
       "      <td>2024-03-29T16:07:39Z</td>\n",
       "      <td>2024-03-03T06:26:15Z</td>\n",
       "      <td>mmcindoe2@umn.edu</td>\n",
       "      <td>Mitchel McIndoe</td>\n",
       "      <td>Sales Activity</td>\n",
       "      <td>Excellent</td>\n",
       "      <td>[2, 10, 0, 5, 1, 8, 4]</td>\n",
       "      <td>14</td>\n",
       "    </tr>\n",
       "    <tr>\n",
       "      <th>3</th>\n",
       "      <td>aF781fDdCeaBb33ef00fBabe</td>\n",
       "      <td>2024-01-07T18:13:20Z</td>\n",
       "      <td>2024-05-13T05:44:39Z</td>\n",
       "      <td>ckendal3@ucsd.edu</td>\n",
       "      <td>Cornie Kendal</td>\n",
       "      <td>Sales Activity</td>\n",
       "      <td>Very Poor</td>\n",
       "      <td>[4, 0, 7, 6, 9, 4, 4]</td>\n",
       "      <td>12</td>\n",
       "    </tr>\n",
       "    <tr>\n",
       "      <th>4</th>\n",
       "      <td>cC1ACD9afcdEA25BcC9aca4D</td>\n",
       "      <td>2024-05-05T00:34:53Z</td>\n",
       "      <td>2024-04-06T13:15:52Z</td>\n",
       "      <td>rphillipps4@rediff.com</td>\n",
       "      <td>Rancell Phillipps</td>\n",
       "      <td>BAU Activity</td>\n",
       "      <td>Good</td>\n",
       "      <td>[8, 8, 10, 2, 3, 2, 0]</td>\n",
       "      <td>10</td>\n",
       "    </tr>\n",
       "  </tbody>\n",
       "</table>\n",
       "</div>"
      ],
      "text/plain": [
       "                        _id             startDate               endDate  \\\n",
       "0  4C087EDad6E13d59EeB8AEFB  2024-03-03T23:22:57Z  2024-01-14T13:34:36Z   \n",
       "1  AAA29F5Afed37aEB309b6cbf  2024-01-13T15:01:43Z  2024-04-13T11:16:15Z   \n",
       "2  a4aFe2e9eEBa1Fa7EBE9EcdC  2024-03-29T16:07:39Z  2024-03-03T06:26:15Z   \n",
       "3  aF781fDdCeaBb33ef00fBabe  2024-01-07T18:13:20Z  2024-05-13T05:44:39Z   \n",
       "4  cC1ACD9afcdEA25BcC9aca4D  2024-05-05T00:34:53Z  2024-04-06T13:15:52Z   \n",
       "\n",
       "                userEmail           userName activities.name  \\\n",
       "0  sgellan0@wikipedia.org      Sherye Gellan    BAU Activity   \n",
       "1           pgovan1@ow.ly       Pincus Govan    BAU Activity   \n",
       "2       mmcindoe2@umn.edu    Mitchel McIndoe  Sales Activity   \n",
       "3       ckendal3@ucsd.edu      Cornie Kendal  Sales Activity   \n",
       "4  rphillipps4@rediff.com  Rancell Phillipps    BAU Activity   \n",
       "\n",
       "  activities.hours.comment        totalHoursPerDay  totalHours  \n",
       "0                  Average   [5, 8, 3, 9, 0, 6, 7]          21  \n",
       "1                Excellent   [5, 0, 4, 4, 0, 9, 9]          18  \n",
       "2                Excellent  [2, 10, 0, 5, 1, 8, 4]          14  \n",
       "3                Very Poor   [4, 0, 7, 6, 9, 4, 4]          12  \n",
       "4                     Good  [8, 8, 10, 2, 3, 2, 0]          10  "
      ]
     },
     "execution_count": 41,
     "metadata": {},
     "output_type": "execute_result"
    }
   ],
   "source": [
    "df.head()"
   ]
  },
  {
   "cell_type": "code",
   "execution_count": 42,
   "id": "10691025-a53c-4d12-80ae-45dac74c9e22",
   "metadata": {},
   "outputs": [],
   "source": [
    "df['totalHoursPerDay'] = df['totalHoursPerDay'].apply(ast.literal_eval)"
   ]
  },
  {
   "cell_type": "code",
   "execution_count": 43,
   "id": "aa76e559-623b-4962-a8cd-0ac91be8bd45",
   "metadata": {},
   "outputs": [],
   "source": [
    "df['totalHours'] = df['totalHoursPerDay'].apply(sum)"
   ]
  },
  {
   "cell_type": "code",
   "execution_count": 45,
   "id": "4aabb229-7191-45fd-8369-4221de16f746",
   "metadata": {},
   "outputs": [],
   "source": [
    "df.to_csv('converted.csv',index=None)"
   ]
  },
  {
   "cell_type": "code",
   "execution_count": null,
   "id": "0bb80db7-32f4-47f9-8b4c-46c640c41a6c",
   "metadata": {},
   "outputs": [],
   "source": []
  },
  {
   "cell_type": "code",
   "execution_count": null,
   "id": "880ea848-bbe7-43b6-9b17-c92ce755b5e9",
   "metadata": {},
   "outputs": [],
   "source": []
  }
 ],
 "metadata": {
  "kernelspec": {
   "display_name": "Python 3 (ipykernel)",
   "language": "python",
   "name": "python3"
  },
  "language_info": {
   "codemirror_mode": {
    "name": "ipython",
    "version": 3
   },
   "file_extension": ".py",
   "mimetype": "text/x-python",
   "name": "python",
   "nbconvert_exporter": "python",
   "pygments_lexer": "ipython3",
   "version": "3.11.7"
  }
 },
 "nbformat": 4,
 "nbformat_minor": 5
}
