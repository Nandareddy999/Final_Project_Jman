{
 "cells": [
  {
   "cell_type": "code",
   "execution_count": 92,
   "id": "5dce1ef5-692b-4911-8857-d4f75c5f5f6b",
   "metadata": {},
   "outputs": [],
   "source": [
    "import pandas as pd\n",
    "import matplotlib.pyplot as plt\n",
    "import seaborn as sns  \n",
    "import pandas as pd\n",
    "import numpy as np\n",
    "import ast\n",
    "import warnings \n",
    "warnings.filterwarnings('ignore') \n",
    "\n",
    "\n",
    "from sklearn.model_selection import train_test_split\n",
    "from sklearn.metrics import mean_squared_error\n",
    "import xgboost as xgb\n",
    "from sklearn.ensemble import RandomForestClassifier\n",
    "from sklearn.metrics import accuracy_score, classification_report"
   ]
  },
  {
   "cell_type": "markdown",
   "id": "6d528a35-0c89-4c18-9d42-06a72543104b",
   "metadata": {},
   "source": [
    "### Reading Data"
   ]
  },
  {
   "cell_type": "code",
   "execution_count": 93,
   "id": "b17af993-816a-4a15-a5eb-c6171fd6cab5",
   "metadata": {},
   "outputs": [],
   "source": [
    "df1 = pd.read_csv(r\"C:\\Users\\MutukunduNandaKumarR\\Desktop\\Final_Project\\Data_Science\\timesheet.csv\")"
   ]
  },
  {
   "cell_type": "markdown",
   "id": "aa199ad7-9c8a-4cb9-8d9b-3b46b6a3c72d",
   "metadata": {},
   "source": [
    "### Shape of the data"
   ]
  },
  {
   "cell_type": "code",
   "execution_count": 94,
   "id": "b58c0e2b-9404-418c-8bd9-7bca3098024a",
   "metadata": {},
   "outputs": [
    {
     "data": {
      "text/plain": [
       "(6001, 9)"
      ]
     },
     "execution_count": 94,
     "metadata": {},
     "output_type": "execute_result"
    }
   ],
   "source": [
    "df1.shape"
   ]
  },
  {
   "cell_type": "markdown",
   "id": "9b338ef5-36a5-43bb-90bf-a2a421dedf12",
   "metadata": {},
   "source": [
    "### Checking Null Values"
   ]
  },
  {
   "cell_type": "code",
   "execution_count": 95,
   "id": "3c98d525-5647-4a7f-a18e-3cf99eaa60f0",
   "metadata": {},
   "outputs": [
    {
     "data": {
      "text/plain": [
       "_id                 0\n",
       "startDate           0\n",
       "endDate             0\n",
       "userName            0\n",
       "userEmail           0\n",
       "Comment             0\n",
       "totalHoursPerDay    0\n",
       "totalHours          0\n",
       "activities          0\n",
       "dtype: int64"
      ]
     },
     "execution_count": 95,
     "metadata": {},
     "output_type": "execute_result"
    }
   ],
   "source": [
    "df1.isnull().sum()"
   ]
  },
  {
   "cell_type": "code",
   "execution_count": 96,
   "id": "baff20cf-6c6e-4ac0-9523-90a9154a755f",
   "metadata": {},
   "outputs": [
    {
     "data": {
      "text/html": [
       "<div>\n",
       "<style scoped>\n",
       "    .dataframe tbody tr th:only-of-type {\n",
       "        vertical-align: middle;\n",
       "    }\n",
       "\n",
       "    .dataframe tbody tr th {\n",
       "        vertical-align: top;\n",
       "    }\n",
       "\n",
       "    .dataframe thead th {\n",
       "        text-align: right;\n",
       "    }\n",
       "</style>\n",
       "<table border=\"1\" class=\"dataframe\">\n",
       "  <thead>\n",
       "    <tr style=\"text-align: right;\">\n",
       "      <th></th>\n",
       "      <th>_id</th>\n",
       "      <th>startDate</th>\n",
       "      <th>endDate</th>\n",
       "      <th>userName</th>\n",
       "      <th>userEmail</th>\n",
       "      <th>Comment</th>\n",
       "      <th>totalHoursPerDay</th>\n",
       "      <th>totalHours</th>\n",
       "      <th>activities</th>\n",
       "    </tr>\n",
       "  </thead>\n",
       "  <tbody>\n",
       "    <tr>\n",
       "      <th>0</th>\n",
       "      <td>4C087EDad6E13d59EeB8AEFB</td>\n",
       "      <td>11/04/2024</td>\n",
       "      <td>17/04/2024</td>\n",
       "      <td>Sherye Gellan</td>\n",
       "      <td>sgellan0@wikipedia.org</td>\n",
       "      <td>Average</td>\n",
       "      <td>[10, 5, 8, 7, 8, 7, 5]</td>\n",
       "      <td>50</td>\n",
       "      <td>BAU Activity</td>\n",
       "    </tr>\n",
       "    <tr>\n",
       "      <th>1</th>\n",
       "      <td>AAA29F5Afed37aEB309b6cbf</td>\n",
       "      <td>10/04/2024</td>\n",
       "      <td>16/04/2024</td>\n",
       "      <td>Pincus Govan</td>\n",
       "      <td>pgovan1@ow.ly</td>\n",
       "      <td>Excellent</td>\n",
       "      <td>[4, 9, 5, 5, 1, 0, 10]</td>\n",
       "      <td>34</td>\n",
       "      <td>BAU Activity</td>\n",
       "    </tr>\n",
       "    <tr>\n",
       "      <th>2</th>\n",
       "      <td>a4aFe2e9eEBa1Fa7EBE9EcdC</td>\n",
       "      <td>10/04/2024</td>\n",
       "      <td>16/04/2024</td>\n",
       "      <td>Mitchel McIndoe</td>\n",
       "      <td>mmcindoe2@umn.edu</td>\n",
       "      <td>Excellent</td>\n",
       "      <td>[6, 8, 10, 1, 9, 5, 9]</td>\n",
       "      <td>48</td>\n",
       "      <td>Sales Activity</td>\n",
       "    </tr>\n",
       "    <tr>\n",
       "      <th>3</th>\n",
       "      <td>aF781fDdCeaBb33ef00fBabe</td>\n",
       "      <td>09/04/2024</td>\n",
       "      <td>15/04/2024</td>\n",
       "      <td>Cornie Kendal</td>\n",
       "      <td>ckendal3@ucsd.edu</td>\n",
       "      <td>Very Poor</td>\n",
       "      <td>[5, 2, 7, 1, 7, 0, 10]</td>\n",
       "      <td>32</td>\n",
       "      <td>Sales Activity</td>\n",
       "    </tr>\n",
       "    <tr>\n",
       "      <th>4</th>\n",
       "      <td>cC1ACD9afcdEA25BcC9aca4D</td>\n",
       "      <td>13/04/2024</td>\n",
       "      <td>19/04/2024</td>\n",
       "      <td>Rancell Phillipps</td>\n",
       "      <td>rphillipps4@rediff.com</td>\n",
       "      <td>Good</td>\n",
       "      <td>[7, 5, 8, 2, 10, 10, 0]</td>\n",
       "      <td>42</td>\n",
       "      <td>BAU Activity</td>\n",
       "    </tr>\n",
       "  </tbody>\n",
       "</table>\n",
       "</div>"
      ],
      "text/plain": [
       "                        _id   startDate     endDate           userName  \\\n",
       "0  4C087EDad6E13d59EeB8AEFB  11/04/2024  17/04/2024      Sherye Gellan   \n",
       "1  AAA29F5Afed37aEB309b6cbf  10/04/2024  16/04/2024       Pincus Govan   \n",
       "2  a4aFe2e9eEBa1Fa7EBE9EcdC  10/04/2024  16/04/2024    Mitchel McIndoe   \n",
       "3  aF781fDdCeaBb33ef00fBabe  09/04/2024  15/04/2024      Cornie Kendal   \n",
       "4  cC1ACD9afcdEA25BcC9aca4D  13/04/2024  19/04/2024  Rancell Phillipps   \n",
       "\n",
       "                userEmail    Comment         totalHoursPerDay  totalHours  \\\n",
       "0  sgellan0@wikipedia.org    Average   [10, 5, 8, 7, 8, 7, 5]          50   \n",
       "1           pgovan1@ow.ly  Excellent   [4, 9, 5, 5, 1, 0, 10]          34   \n",
       "2       mmcindoe2@umn.edu  Excellent   [6, 8, 10, 1, 9, 5, 9]          48   \n",
       "3       ckendal3@ucsd.edu  Very Poor   [5, 2, 7, 1, 7, 0, 10]          32   \n",
       "4  rphillipps4@rediff.com       Good  [7, 5, 8, 2, 10, 10, 0]          42   \n",
       "\n",
       "       activities  \n",
       "0    BAU Activity  \n",
       "1    BAU Activity  \n",
       "2  Sales Activity  \n",
       "3  Sales Activity  \n",
       "4    BAU Activity  "
      ]
     },
     "execution_count": 96,
     "metadata": {},
     "output_type": "execute_result"
    }
   ],
   "source": [
    "df1.head()"
   ]
  },
  {
   "cell_type": "markdown",
   "id": "c9315b05-bccf-4697-b7d7-5a9e51b50266",
   "metadata": {},
   "source": [
    "### Univariate Analysis"
   ]
  },
  {
   "cell_type": "code",
   "execution_count": 97,
   "id": "5add09ef-b935-43f9-acd5-4911a41a6ce2",
   "metadata": {},
   "outputs": [
    {
     "data": {
      "image/png": "[encoded data removed]",
      "text/plain": [
       "<Figure size 640x480 with 1 Axes>"
      ]
     },
     "metadata": {},
     "output_type": "display_data"
    }
   ],
   "source": [
    "sns.histplot(df1['totalHours'], kde=True)\n",
    "plt.title('Distribution of Total Hours')\n",
    "plt.show()\n"
   ]
  },
  {
   "cell_type": "code",
   "execution_count": 98,
   "id": "4dcaeeaf-97dc-4d98-8689-df7cdc8975d3",
   "metadata": {},
   "outputs": [
    {
     "data": {
      "image/png": "[encoded data removed]",
      "text/plain": [
       "<Figure size 800x600 with 1 Axes>"
      ]
     },
     "metadata": {},
     "output_type": "display_data"
    }
   ],
   "source": [
    "plt.figure(figsize=(8, 6))\n",
    "sns.countplot(x='activities', data=df1)\n",
    "plt.title('Count of Activities')\n",
    "plt.xticks(rotation=45)  # Rotate x-axis labels for better readability\n",
    "plt.show()"
   ]
  },
  {
   "cell_type": "markdown",
   "id": "20442e33-dd98-47e4-8059-5fecfa9b5006",
   "metadata": {},
   "source": [
    "### Bivariate Analysis"
   ]
  },
  {
   "cell_type": "code",
   "execution_count": 99,
   "id": "74412c7d-e455-4bc8-9c08-685638551b48",
   "metadata": {},
   "outputs": [
    {
     "data": {
      "image/png": "[encoded data removed]",
      "text/plain": [
       "<Figure size 640x480 with 1 Axes>"
      ]
     },
     "metadata": {},
     "output_type": "display_data"
    }
   ],
   "source": [
    "sns.boxplot(data=df1, x='activities', y='totalHours')\n",
    "plt.title('Total Hours by Activity')\n",
    "plt.xticks(rotation=45)\n",
    "plt.show()"
   ]
  },
  {
   "cell_type": "code",
   "execution_count": 100,
   "id": "95d9794e-c505-42aa-a12b-2808b972668a",
   "metadata": {},
   "outputs": [
    {
     "data": {
      "text/html": [
       "<div>\n",
       "<style scoped>\n",
       "    .dataframe tbody tr th:only-of-type {\n",
       "        vertical-align: middle;\n",
       "    }\n",
       "\n",
       "    .dataframe tbody tr th {\n",
       "        vertical-align: top;\n",
       "    }\n",
       "\n",
       "    .dataframe thead th {\n",
       "        text-align: right;\n",
       "    }\n",
       "</style>\n",
       "<table border=\"1\" class=\"dataframe\">\n",
       "  <thead>\n",
       "    <tr style=\"text-align: right;\">\n",
       "      <th></th>\n",
       "      <th>_id</th>\n",
       "      <th>startDate</th>\n",
       "      <th>endDate</th>\n",
       "      <th>userName</th>\n",
       "      <th>userEmail</th>\n",
       "      <th>Comment</th>\n",
       "      <th>totalHoursPerDay</th>\n",
       "      <th>totalHours</th>\n",
       "      <th>activities</th>\n",
       "    </tr>\n",
       "  </thead>\n",
       "  <tbody>\n",
       "    <tr>\n",
       "      <th>0</th>\n",
       "      <td>4C087EDad6E13d59EeB8AEFB</td>\n",
       "      <td>11/04/2024</td>\n",
       "      <td>17/04/2024</td>\n",
       "      <td>Sherye Gellan</td>\n",
       "      <td>sgellan0@wikipedia.org</td>\n",
       "      <td>Average</td>\n",
       "      <td>[10, 5, 8, 7, 8, 7, 5]</td>\n",
       "      <td>50</td>\n",
       "      <td>BAU Activity</td>\n",
       "    </tr>\n",
       "    <tr>\n",
       "      <th>1</th>\n",
       "      <td>AAA29F5Afed37aEB309b6cbf</td>\n",
       "      <td>10/04/2024</td>\n",
       "      <td>16/04/2024</td>\n",
       "      <td>Pincus Govan</td>\n",
       "      <td>pgovan1@ow.ly</td>\n",
       "      <td>Excellent</td>\n",
       "      <td>[4, 9, 5, 5, 1, 0, 10]</td>\n",
       "      <td>34</td>\n",
       "      <td>BAU Activity</td>\n",
       "    </tr>\n",
       "    <tr>\n",
       "      <th>2</th>\n",
       "      <td>a4aFe2e9eEBa1Fa7EBE9EcdC</td>\n",
       "      <td>10/04/2024</td>\n",
       "      <td>16/04/2024</td>\n",
       "      <td>Mitchel McIndoe</td>\n",
       "      <td>mmcindoe2@umn.edu</td>\n",
       "      <td>Excellent</td>\n",
       "      <td>[6, 8, 10, 1, 9, 5, 9]</td>\n",
       "      <td>48</td>\n",
       "      <td>Sales Activity</td>\n",
       "    </tr>\n",
       "    <tr>\n",
       "      <th>3</th>\n",
       "      <td>aF781fDdCeaBb33ef00fBabe</td>\n",
       "      <td>09/04/2024</td>\n",
       "      <td>15/04/2024</td>\n",
       "      <td>Cornie Kendal</td>\n",
       "      <td>ckendal3@ucsd.edu</td>\n",
       "      <td>Very Poor</td>\n",
       "      <td>[5, 2, 7, 1, 7, 0, 10]</td>\n",
       "      <td>32</td>\n",
       "      <td>Sales Activity</td>\n",
       "    </tr>\n",
       "    <tr>\n",
       "      <th>4</th>\n",
       "      <td>cC1ACD9afcdEA25BcC9aca4D</td>\n",
       "      <td>13/04/2024</td>\n",
       "      <td>19/04/2024</td>\n",
       "      <td>Rancell Phillipps</td>\n",
       "      <td>rphillipps4@rediff.com</td>\n",
       "      <td>Good</td>\n",
       "      <td>[7, 5, 8, 2, 10, 10, 0]</td>\n",
       "      <td>42</td>\n",
       "      <td>BAU Activity</td>\n",
       "    </tr>\n",
       "  </tbody>\n",
       "</table>\n",
       "</div>"
      ],
      "text/plain": [
       "                        _id   startDate     endDate           userName  \\\n",
       "0  4C087EDad6E13d59EeB8AEFB  11/04/2024  17/04/2024      Sherye Gellan   \n",
       "1  AAA29F5Afed37aEB309b6cbf  10/04/2024  16/04/2024       Pincus Govan   \n",
       "2  a4aFe2e9eEBa1Fa7EBE9EcdC  10/04/2024  16/04/2024    Mitchel McIndoe   \n",
       "3  aF781fDdCeaBb33ef00fBabe  09/04/2024  15/04/2024      Cornie Kendal   \n",
       "4  cC1ACD9afcdEA25BcC9aca4D  13/04/2024  19/04/2024  Rancell Phillipps   \n",
       "\n",
       "                userEmail    Comment         totalHoursPerDay  totalHours  \\\n",
       "0  sgellan0@wikipedia.org    Average   [10, 5, 8, 7, 8, 7, 5]          50   \n",
       "1           pgovan1@ow.ly  Excellent   [4, 9, 5, 5, 1, 0, 10]          34   \n",
       "2       mmcindoe2@umn.edu  Excellent   [6, 8, 10, 1, 9, 5, 9]          48   \n",
       "3       ckendal3@ucsd.edu  Very Poor   [5, 2, 7, 1, 7, 0, 10]          32   \n",
       "4  rphillipps4@rediff.com       Good  [7, 5, 8, 2, 10, 10, 0]          42   \n",
       "\n",
       "       activities  \n",
       "0    BAU Activity  \n",
       "1    BAU Activity  \n",
       "2  Sales Activity  \n",
       "3  Sales Activity  \n",
       "4    BAU Activity  "
      ]
     },
     "execution_count": 100,
     "metadata": {},
     "output_type": "execute_result"
    }
   ],
   "source": [
    "df1.head()"
   ]
  },
  {
   "cell_type": "code",
   "execution_count": 101,
   "id": "9ccfce54-9172-4508-84d7-52c9a0f282a1",
   "metadata": {},
   "outputs": [
    {
     "data": {
      "image/png": "[encoded data removed]",
      "text/plain": [
       "<Figure size 800x600 with 2 Axes>"
      ]
     },
     "metadata": {},
     "output_type": "display_data"
    }
   ],
   "source": [
    "# df1['totalHoursPerDay'] = df1['totalHoursPerDay'].apply(lambda x: sum(map(int, x.strip('[]').split(','))))\n",
    "\n",
    "numeric_df = df1.select_dtypes(include=['int64', 'float64'])\n",
    "\n",
    "# Calculate correlation matrix\n",
    "correlation_matrix = numeric_df.corr()\n",
    "\n",
    "# Set custom colors for the heatmap\n",
    "colors = [\"#8B008B\", \"#DB17B1\", \"#87CEEB\", \"#2924C9\", \"#FFB6C1\", \"#17C1DB\"]\n",
    "\n",
    "plt.figure(figsize=(8, 6))\n",
    "sns.heatmap(correlation_matrix, annot=True, cmap=sns.color_palette(colors), fmt=\".2f\")\n",
    "plt.title('Correlation Matrix')\n",
    "plt.show()"
   ]
  },
  {
   "cell_type": "code",
   "execution_count": 102,
   "id": "7cc00149-0788-4ea1-abbf-5a7b19dca658",
   "metadata": {},
   "outputs": [
    {
     "data": {
      "image/png": "[encoded data removed]",
      "text/plain": [
       "<Figure size 800x400 with 2 Axes>"
      ]
     },
     "metadata": {},
     "output_type": "display_data"
    }
   ],
   "source": [
    "sns.pairplot(df1[['totalHours', 'totalHoursPerDay']], height=4, aspect=2)\n",
    "plt.show()"
   ]
  },
  {
   "cell_type": "code",
   "execution_count": 103,
   "id": "2f5a1a5c-6d09-44d7-8d5c-ed34bd6abf5b",
   "metadata": {},
   "outputs": [
    {
     "data": {
      "text/html": [
       "<div>\n",
       "<style scoped>\n",
       "    .dataframe tbody tr th:only-of-type {\n",
       "        vertical-align: middle;\n",
       "    }\n",
       "\n",
       "    .dataframe tbody tr th {\n",
       "        vertical-align: top;\n",
       "    }\n",
       "\n",
       "    .dataframe thead th {\n",
       "        text-align: right;\n",
       "    }\n",
       "</style>\n",
       "<table border=\"1\" class=\"dataframe\">\n",
       "  <thead>\n",
       "    <tr style=\"text-align: right;\">\n",
       "      <th></th>\n",
       "      <th>_id</th>\n",
       "      <th>startDate</th>\n",
       "      <th>endDate</th>\n",
       "      <th>userName</th>\n",
       "      <th>userEmail</th>\n",
       "      <th>Comment</th>\n",
       "      <th>totalHoursPerDay</th>\n",
       "      <th>totalHours</th>\n",
       "      <th>activities</th>\n",
       "    </tr>\n",
       "  </thead>\n",
       "  <tbody>\n",
       "    <tr>\n",
       "      <th>0</th>\n",
       "      <td>4C087EDad6E13d59EeB8AEFB</td>\n",
       "      <td>11/04/2024</td>\n",
       "      <td>17/04/2024</td>\n",
       "      <td>Sherye Gellan</td>\n",
       "      <td>sgellan0@wikipedia.org</td>\n",
       "      <td>Average</td>\n",
       "      <td>[10, 5, 8, 7, 8, 7, 5]</td>\n",
       "      <td>50</td>\n",
       "      <td>BAU Activity</td>\n",
       "    </tr>\n",
       "    <tr>\n",
       "      <th>1</th>\n",
       "      <td>AAA29F5Afed37aEB309b6cbf</td>\n",
       "      <td>10/04/2024</td>\n",
       "      <td>16/04/2024</td>\n",
       "      <td>Pincus Govan</td>\n",
       "      <td>pgovan1@ow.ly</td>\n",
       "      <td>Excellent</td>\n",
       "      <td>[4, 9, 5, 5, 1, 0, 10]</td>\n",
       "      <td>34</td>\n",
       "      <td>BAU Activity</td>\n",
       "    </tr>\n",
       "    <tr>\n",
       "      <th>2</th>\n",
       "      <td>a4aFe2e9eEBa1Fa7EBE9EcdC</td>\n",
       "      <td>10/04/2024</td>\n",
       "      <td>16/04/2024</td>\n",
       "      <td>Mitchel McIndoe</td>\n",
       "      <td>mmcindoe2@umn.edu</td>\n",
       "      <td>Excellent</td>\n",
       "      <td>[6, 8, 10, 1, 9, 5, 9]</td>\n",
       "      <td>48</td>\n",
       "      <td>Sales Activity</td>\n",
       "    </tr>\n",
       "    <tr>\n",
       "      <th>3</th>\n",
       "      <td>aF781fDdCeaBb33ef00fBabe</td>\n",
       "      <td>09/04/2024</td>\n",
       "      <td>15/04/2024</td>\n",
       "      <td>Cornie Kendal</td>\n",
       "      <td>ckendal3@ucsd.edu</td>\n",
       "      <td>Very Poor</td>\n",
       "      <td>[5, 2, 7, 1, 7, 0, 10]</td>\n",
       "      <td>32</td>\n",
       "      <td>Sales Activity</td>\n",
       "    </tr>\n",
       "    <tr>\n",
       "      <th>4</th>\n",
       "      <td>cC1ACD9afcdEA25BcC9aca4D</td>\n",
       "      <td>13/04/2024</td>\n",
       "      <td>19/04/2024</td>\n",
       "      <td>Rancell Phillipps</td>\n",
       "      <td>rphillipps4@rediff.com</td>\n",
       "      <td>Good</td>\n",
       "      <td>[7, 5, 8, 2, 10, 10, 0]</td>\n",
       "      <td>42</td>\n",
       "      <td>BAU Activity</td>\n",
       "    </tr>\n",
       "  </tbody>\n",
       "</table>\n",
       "</div>"
      ],
      "text/plain": [
       "                        _id   startDate     endDate           userName  \\\n",
       "0  4C087EDad6E13d59EeB8AEFB  11/04/2024  17/04/2024      Sherye Gellan   \n",
       "1  AAA29F5Afed37aEB309b6cbf  10/04/2024  16/04/2024       Pincus Govan   \n",
       "2  a4aFe2e9eEBa1Fa7EBE9EcdC  10/04/2024  16/04/2024    Mitchel McIndoe   \n",
       "3  aF781fDdCeaBb33ef00fBabe  09/04/2024  15/04/2024      Cornie Kendal   \n",
       "4  cC1ACD9afcdEA25BcC9aca4D  13/04/2024  19/04/2024  Rancell Phillipps   \n",
       "\n",
       "                userEmail    Comment         totalHoursPerDay  totalHours  \\\n",
       "0  sgellan0@wikipedia.org    Average   [10, 5, 8, 7, 8, 7, 5]          50   \n",
       "1           pgovan1@ow.ly  Excellent   [4, 9, 5, 5, 1, 0, 10]          34   \n",
       "2       mmcindoe2@umn.edu  Excellent   [6, 8, 10, 1, 9, 5, 9]          48   \n",
       "3       ckendal3@ucsd.edu  Very Poor   [5, 2, 7, 1, 7, 0, 10]          32   \n",
       "4  rphillipps4@rediff.com       Good  [7, 5, 8, 2, 10, 10, 0]          42   \n",
       "\n",
       "       activities  \n",
       "0    BAU Activity  \n",
       "1    BAU Activity  \n",
       "2  Sales Activity  \n",
       "3  Sales Activity  \n",
       "4    BAU Activity  "
      ]
     },
     "execution_count": 103,
     "metadata": {},
     "output_type": "execute_result"
    }
   ],
   "source": [
    "df1.head()"
   ]
  },
  {
   "cell_type": "code",
   "execution_count": 104,
   "id": "fe83b319-7a96-4931-bfc5-bf86faeffb9e",
   "metadata": {},
   "outputs": [
    {
     "name": "stdout",
     "output_type": "stream",
     "text": [
      "Index(['_id', 'startDate', 'endDate', 'userName', 'userEmail', 'Comment',\n",
      "       'totalHoursPerDay', 'totalHours', 'activities'],\n",
      "      dtype='object')\n"
     ]
    }
   ],
   "source": [
    "print(df1.columns)"
   ]
  },
  {
   "cell_type": "markdown",
   "id": "eeae1fff-087c-4388-b18b-90288eb11f6e",
   "metadata": {},
   "source": [
    "### Model Development"
   ]
  },
  {
   "cell_type": "code",
   "execution_count": 105,
   "id": "2139cfe6-0991-489b-83d1-899497453805",
   "metadata": {},
   "outputs": [
    {
     "name": "stdout",
     "output_type": "stream",
     "text": [
      "Mean Squared Error (Random Forest): 0.021316057688041356\n"
     ]
    }
   ],
   "source": [
    "\n",
    "# Train Random Forest Regressor model\n",
    "rf_model = RandomForestRegressor(random_state=42)\n",
    "rf_model.fit(X_train, y_train)\n",
    "\n",
    "# Evaluate the model\n",
    "y_pred_rf = rf_model.predict(X_test)\n",
    "mse_rf = mean_squared_error(y_test, y_pred_rf)\n",
    "print(f\"Mean Squared Error (Random Forest): {mse_rf}\")\n"
   ]
  },
  {
   "cell_type": "markdown",
   "id": "ab6158b1-99e6-4eeb-a1b7-d8dc63ae7030",
   "metadata": {},
   "source": [
    "### Model for <40 hours"
   ]
  },
  {
   "cell_type": "code",
   "execution_count": 106,
   "id": "223b0817-67b7-42da-9672-f141634b6583",
   "metadata": {},
   "outputs": [
    {
     "name": "stdout",
     "output_type": "stream",
     "text": [
      "Accuracy: 0.72\n",
      "\n",
      "Classification Report:\n",
      "              precision    recall  f1-score   support\n",
      "\n",
      "           0       0.00      0.00      0.00       342\n",
      "           1       0.72      1.00      0.83       859\n",
      "\n",
      "    accuracy                           0.72      1201\n",
      "   macro avg       0.36      0.50      0.42      1201\n",
      "weighted avg       0.51      0.72      0.60      1201\n",
      "\n"
     ]
    }
   ],
   "source": [
    "\n",
    "df1['startDate'] = pd.to_datetime(df1['startDate'], format='%d/%m/%Y')\n",
    "df1['endDate'] = pd.to_datetime(df1['endDate'], format='%d/%m/%Y')\n",
    "\n",
    "# Calculate total hours for each period\n",
    "df1['totalHoursPeriod'] = (df1['endDate'] - df1['startDate']).dt.days + 1  # Add 1 to include both start and end dates\n",
    "\n",
    "# Define features and target variable\n",
    "X = df1[['totalHoursPeriod']]\n",
    "y = (df1['totalHours'] < 40).astype(int)  # Convert to binary label (0 or 1)\n",
    "\n",
    "# Split data into train and test sets\n",
    "X_train, X_test, y_train, y_test = train_test_split(X, y, test_size=0.2, random_state=42)\n",
    "\n",
    "# Train Random Forest classifier\n",
    "rf_model = RandomForestClassifier(random_state=42)\n",
    "rf_model.fit(X_train, y_train)\n",
    "\n",
    "# Predict on test set\n",
    "y_pred = rf_model.predict(X_test)\n",
    "\n",
    "# Evaluate the model\n",
    "accuracy = accuracy_score(y_test, y_pred)\n",
    "print(f\"Accuracy: {accuracy:.2f}\")\n",
    "\n",
    "# Classification report\n",
    "print(\"\\nClassification Report:\")\n",
    "print(classification_report(y_test, y_pred))\n"
   ]
  },
  {
   "cell_type": "code",
   "execution_count": 107,
   "id": "babf2beb-587b-4082-9541-0f96c597e59d",
   "metadata": {},
   "outputs": [
    {
     "name": "stdout",
     "output_type": "stream",
     "text": [
      "Accuracy: 0.72\n",
      "\n",
      "Classification Report:\n",
      "              precision    recall  f1-score   support\n",
      "\n",
      "           0       0.00      0.00      0.00       342\n",
      "           1       0.72      1.00      0.83       859\n",
      "\n",
      "    accuracy                           0.72      1201\n",
      "   macro avg       0.36      0.50      0.42      1201\n",
      "weighted avg       0.51      0.72      0.60      1201\n",
      "\n"
     ]
    }
   ],
   "source": [
    "df1['startDate'] = pd.to_datetime(df1['startDate'], format='%d/%m/%Y')\n",
    "df1['endDate'] = pd.to_datetime(df1['endDate'], format='%d/%m/%Y')\n",
    "\n",
    "# Calculate total hours for each period\n",
    "df1['totalHoursPeriod'] = (df1['endDate'] - df1['startDate']).dt.days + 1  # Add 1 to include both start and end dates\n",
    "\n",
    "# Define features and target variable\n",
    "X = df1[['totalHoursPeriod']]\n",
    "y = (df1['totalHours'] < 40).astype(int)  # Convert to binary label (0 or 1)\n",
    "\n",
    "# Split data into train and test sets\n",
    "X_train, X_test, y_train, y_test = train_test_split(X, y, test_size=0.2, random_state=42)\n",
    "\n",
    "# Train XGBoost classifier\n",
    "xgb_model = xgb.XGBClassifier(random_state=42)\n",
    "xgb_model.fit(X_train, y_train)\n",
    "\n",
    "# Predict on test set\n",
    "y_pred = xgb_model.predict(X_test)\n",
    "\n",
    "# Evaluate the model\n",
    "accuracy = accuracy_score(y_test, y_pred)\n",
    "print(f\"Accuracy: {accuracy:.2f}\")\n",
    "\n",
    "# Classification report\n",
    "print(\"\\nClassification Report:\")\n",
    "print(classification_report(y_test, y_pred))"
   ]
  },
  {
   "cell_type": "code",
   "execution_count": 108,
   "id": "ce7a592d-e127-470e-988d-3f0c7ed60b4e",
   "metadata": {},
   "outputs": [
    {
     "name": "stdout",
     "output_type": "stream",
     "text": [
      "Accuracy (Random Forest): 0.98\n",
      "\n",
      "Classification Report (Random Forest):\n",
      "              precision    recall  f1-score   support\n",
      "\n",
      "           0       0.98      1.00      0.99      1175\n",
      "           1       0.00      0.00      0.00        26\n",
      "\n",
      "    accuracy                           0.98      1201\n",
      "   macro avg       0.49      0.50      0.49      1201\n",
      "weighted avg       0.96      0.98      0.97      1201\n",
      "\n"
     ]
    }
   ],
   "source": [
    "# Convert date columns to datetime\n",
    "df1['startDate'] = pd.to_datetime(df1['startDate'], format='%d/%m/%Y')\n",
    "df1['endDate'] = pd.to_datetime(df1['endDate'], format='%d/%m/%Y')\n",
    "\n",
    "# Calculate total hours for each period\n",
    "df1['totalHoursPeriod'] = (df1['endDate'] - df1['startDate']).dt.days + 1  # Add 1 to include both start and end dates\n",
    "\n",
    "# Define features and target variable\n",
    "X = df1[['totalHoursPeriod']]\n",
    "y = (df1['totalHours'] > 50).astype(int)  # Convert to binary label (0 or 1)\n",
    "\n",
    "# Split data into train and test sets\n",
    "X_train, X_test, y_train, y_test = train_test_split(X, y, test_size=0.2, random_state=42)\n",
    "\n",
    "# Train Random Forest classifier\n",
    "rf_model = RandomForestClassifier(random_state=42)\n",
    "rf_model.fit(X_train, y_train)\n",
    "\n",
    "# Predict on test set\n",
    "y_pred_rf = rf_model.predict(X_test)\n",
    "\n",
    "# Evaluate the model\n",
    "accuracy_rf = accuracy_score(y_test, y_pred_rf)\n",
    "print(f\"Accuracy (Random Forest): {accuracy_rf:.2f}\")\n",
    "\n",
    "# Classification report\n",
    "print(\"\\nClassification Report (Random Forest):\")\n",
    "print(classification_report(y_test, y_pred_rf))"
   ]
  },
  {
   "cell_type": "code",
   "execution_count": null,
   "id": "2a160505-c4d7-4566-8cb9-b3878242f14a",
   "metadata": {},
   "outputs": [],
   "source": []
  }
 ],
 "metadata": {
  "kernelspec": {
   "display_name": "Python 3 (ipykernel)",
   "language": "python",
   "name": "python3"
  },
  "language_info": {
   "codemirror_mode": {
    "name": "ipython",
    "version": 3
   },
   "file_extension": ".py",
   "mimetype": "text/x-python",
   "name": "python",
   "nbconvert_exporter": "python",
   "pygments_lexer": "ipython3",
   "version": "3.11.7"
  }
 },
 "nbformat": 4,
 "nbformat_minor": 5
}
